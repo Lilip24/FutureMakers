{
 "cells": [
  {
   "cell_type": "code",
   "execution_count": 1,
   "metadata": {},
   "outputs": [],
   "source": [
    "import numpy as np"
   ]
  },
  {
   "cell_type": "markdown",
   "metadata": {},
   "source": [
    "*from article*\n",
    "\n",
    "To give you a taste of just how easy it is to train and test an ML model using Scikit Learn, here’s an example of how to do just that for a Decision Tree Classifier!\n",
    "\n",
    "Decision trees for both classification and regression are super easy to use in Scikit Learn with a built in class. We’ll first load in our dataset which actually comes built into the library. Then we’ll initialise our decision tree for classification, also a built in class. Running training is then a simple one-liner! The .fit(X, Y) function trains the model where X is the numpy array of inputs and Y is the corresponding numpy array of outputs"
   ]
  },
  {
   "cell_type": "code",
   "execution_count": 2,
   "metadata": {},
   "outputs": [],
   "source": [
    "from sklearn.datasets import load_iris\n",
    "from sklearn import tree\n",
    "\n",
    "#Loading in dataset\n",
    "iris = load_iris()\n",
    "\n",
    "#Initializing decision tree object\n",
    "classification_tree = tree.DecisionTreeClassifier()\n",
    "\n",
    "#Training decision tree (tree induction +pruning)\n",
    "classification_tree = classification_tree.fit(iris.data, iris.target)"
   ]
  },
  {
   "cell_type": "markdown",
   "metadata": {},
   "source": [
    "*from article*\n",
    "\n",
    "Scikit Learn also allows us to visualise our tree using the graphviz library. It comes with a few options that will help in visualising the decision nodes and splits that the model learned which is super useful for understanding how it all works. Below we will colour the nodes based on the feature names and display the class and feature information of each node.\n"
   ]
  },
  {
   "cell_type": "code",
   "execution_count": 3,
   "metadata": {},
   "outputs": [
    {
     "data": {
      "text/plain": [
       "'Iris Decision Tree Visualization.pdf'"
      ]
     },
     "execution_count": 3,
     "metadata": {},
     "output_type": "execute_result"
    }
   ],
   "source": [
    "import graphviz\n",
    "\n",
    "#Visulizing the feature names, the class and feature information\n",
    "dot_data = tree.export_graphviz(classification_tree, out_file=None, \n",
    "                                 feature_names=iris.feature_names, \n",
    "                                 class_names=iris.target_names, \n",
    "                                 filled=True, rounded=True, \n",
    "                                 special_characters=True)\n",
    "graph = graphviz.Source(dot_data)\n",
    "graph.render(\"Iris Decision Tree Visualization\")"
   ]
  }
 ],
 "metadata": {
  "kernelspec": {
   "display_name": "Python 3 (ipykernel)",
   "language": "python",
   "name": "python3"
  },
  "language_info": {
   "codemirror_mode": {
    "name": "ipython",
    "version": 3
   },
   "file_extension": ".py",
   "mimetype": "text/x-python",
   "name": "python",
   "nbconvert_exporter": "python",
   "pygments_lexer": "ipython3",
   "version": "3.9.6"
  }
 },
 "nbformat": 4,
 "nbformat_minor": 4
}
