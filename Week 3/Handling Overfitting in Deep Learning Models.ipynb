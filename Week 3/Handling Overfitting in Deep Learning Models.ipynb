{
 "cells": [
  {
   "cell_type": "markdown",
   "id": "ab6e05a7",
   "metadata": {},
   "source": [
    "## Setting Up"
   ]
  },
  {
   "cell_type": "code",
   "execution_count": 9,
   "id": "2a04ec93",
   "metadata": {},
   "outputs": [],
   "source": [
    "# Basic packages\n",
    "import pandas as pd \n",
    "import numpy as np\n",
    "import re\n",
    "import collections\n",
    "import matplotlib.pyplot as plt\n",
    "from pathlib import Path\n",
    "\n",
    "# Packages for data preparation\n",
    "from sklearn.model_selection import train_test_split\n",
    "from nltk.corpus import stopwords\n",
    "from keras.preprocessing.text import Tokenizer\n",
    "from keras.utils.np_utils import to_categorical\n",
    "from sklearn.preprocessing import LabelEncoder\n",
    "\n",
    "# Packages for modeling\n",
    "from keras import models\n",
    "from keras import layers\n",
    "from keras import regularizers\n",
    "\n",
    "NB_WORDS = 10000  # Parameter indicating the number of words we'll put in the dictionary\n",
    "NB_START_EPOCHS = 20  # Number of epochs we usually start to train with\n",
    "BATCH_SIZE = 512  # Size of the batches used in the mini-batch gradient descent\n",
    "MAX_LEN = 20  # Maximum number of words in a sequence\n",
    "\n",
    "root = Path('../')\n",
    "input_path = root / 'SureStart FutureMakers Program + Projects' \n",
    "ouput_path = root / 'output/'\n",
    "source_path = root / 'source/'"
   ]
  },
  {
   "cell_type": "markdown",
   "id": "f06e5f2d",
   "metadata": {},
   "source": [
    "## Loading in 'Helper Functions'"
   ]
  },
  {
   "cell_type": "code",
   "execution_count": 3,
   "id": "49313488",
   "metadata": {},
   "outputs": [],
   "source": [
    "def deep_model(model, X_train, y_train, X_valid, y_valid):\n",
    "    '''\n",
    "    Function to train a multi-class model. The number of epochs and \n",
    "    batch_size are set by the constants at the top of the\n",
    "    notebook. \n",
    "    \n",
    "    Parameters:\n",
    "        model : model with the chosen architecture\n",
    "        X_train : training features\n",
    "        y_train : training target\n",
    "        X_valid : validation features\n",
    "        Y_valid : validation target\n",
    "    Output:\n",
    "        model training history\n",
    "    '''\n",
    "    model.compile(optimizer='rmsprop'\n",
    "                  , loss='categorical_crossentropy'\n",
    "                  , metrics=['accuracy'])\n",
    "    \n",
    "    history = model.fit(X_train\n",
    "                       , y_train\n",
    "                       , epochs=NB_START_EPOCHS\n",
    "                       , batch_size=BATCH_SIZE\n",
    "                       , validation_data=(X_valid, y_valid)\n",
    "                       , verbose=0)\n",
    "    return history\n",
    "def eval_metric(model, history, metric_name):\n",
    "    '''\n",
    "    Function to evaluate a trained model on a chosen metric. \n",
    "    Training and validation metric are plotted in a\n",
    "    line chart for each epoch.\n",
    "    \n",
    "    Parameters:\n",
    "        history : model training history\n",
    "        metric_name : loss or accuracy\n",
    "    Output:\n",
    "        line chart with epochs of x-axis and metric on\n",
    "        y-axis\n",
    "    '''\n",
    "    metric = history.history[metric_name]\n",
    "    val_metric = history.history['val_' + metric_name]\n",
    "    e = range(1, NB_START_EPOCHS + 1)\n",
    "    plt.plot(e, metric, 'bo', label='Train ' + metric_name)\n",
    "    plt.plot(e, val_metric, 'b', label='Validation ' + metric_name)\n",
    "    plt.xlabel('Epoch number')\n",
    "    plt.ylabel(metric_name)\n",
    "    plt.title('Comparing training and validation ' + metric_name + ' for ' + model.name)\n",
    "    plt.legend()\n",
    "    plt.show()\n",
    "def test_model(model, X_train, y_train, X_test, y_test, epoch_stop):\n",
    "    '''\n",
    "    Function to test the model on new data after training it\n",
    "    on the full training data with the optimal number of epochs.\n",
    "    \n",
    "    Parameters:\n",
    "        model : trained model\n",
    "        X_train : training features\n",
    "        y_train : training target\n",
    "        X_test : test features\n",
    "        y_test : test target\n",
    "        epochs : optimal number of epochs\n",
    "    Output:\n",
    "        test accuracy and test loss\n",
    "    '''\n",
    "    model.fit(X_train\n",
    "              , y_train\n",
    "              , epochs=epoch_stop\n",
    "              , batch_size=BATCH_SIZE\n",
    "              , verbose=0)\n",
    "    results = model.evaluate(X_test, y_test)\n",
    "    print()\n",
    "    print('Test accuracy: {0:.2f}%'.format(results[1]*100))\n",
    "    return results\n",
    "    \n",
    "def remove_stopwords(input_text):\n",
    "    '''\n",
    "    Function to remove English stopwords from a Pandas Series.\n",
    "    \n",
    "    Parameters:\n",
    "        input_text : text to clean\n",
    "    Output:\n",
    "        cleaned Pandas Series \n",
    "    '''\n",
    "    stopwords_list = stopwords.words('english')\n",
    "    # Some words which might indicate a certain sentiment are kept via a whitelist\n",
    "    whitelist = [\"n't\", \"not\", \"no\"]\n",
    "    words = input_text.split() \n",
    "    clean_words = [word for word in words if (word not in stopwords_list or word in whitelist) and len(word) > 1] \n",
    "    return \" \".join(clean_words) \n",
    "    \n",
    "def remove_mentions(input_text):\n",
    "    '''\n",
    "    Function to remove mentions, preceded by @, in a Pandas Series\n",
    "    \n",
    "    Parameters:\n",
    "        input_text : text to clean\n",
    "    Output:\n",
    "        cleaned Pandas Series \n",
    "    '''\n",
    "    return re.sub(r'@\\w+', '', input_text)\n",
    "def compare_models_by_metric(model_1, model_2, model_hist_1, model_hist_2, metric):\n",
    "    '''\n",
    "    Function to compare a metric between two models \n",
    "    \n",
    "    Parameters:\n",
    "        model_hist_1 : training history of model 1\n",
    "        model_hist_2 : training history of model 2\n",
    "        metrix : metric to compare, loss, acc, val_loss or val_acc\n",
    "        \n",
    "    Output:\n",
    "        plot of metrics of both models\n",
    "    '''\n",
    "    metric_model_1 = model_hist_1.history[metric]\n",
    "    metric_model_2 = model_hist_2.history[metric]\n",
    "    e = range(1, NB_START_EPOCHS + 1)\n",
    "    \n",
    "    metrics_dict = {\n",
    "        'acc' : 'Training Accuracy',\n",
    "        'loss' : 'Training Loss',\n",
    "        'val_acc' : 'Validation accuracy',\n",
    "        'val_loss' : 'Validation loss'\n",
    "    }\n",
    "    \n",
    "    metric_label = metrics_dict[metric]\n",
    "    plt.plot(e, metric_model_1, 'bo', label=model_1.name)\n",
    "    plt.plot(e, metric_model_2, 'b', label=model_2.name)\n",
    "    plt.xlabel('Epoch number')\n",
    "    plt.ylabel(metric_label)\n",
    "    plt.title('Comparing ' + metric_label + ' between models')\n",
    "    plt.legend()\n",
    "    plt.show()\n",
    "    \n",
    "def optimal_epoch(model_hist):\n",
    "    '''\n",
    "    Function to return the epoch number where the validation loss is\n",
    "    at its minimum\n",
    "    \n",
    "    Parameters:\n",
    "        model_hist : training history of model\n",
    "    Output:\n",
    "        epoch number with minimum validation loss\n",
    "    '''\n",
    "    min_epoch = np.argmin(model_hist.history['val_loss']) + 1\n",
    "    print(\"Minimum validation loss reached in epoch {}\".format(min_epoch))\n",
    "    return min_epoch"
   ]
  },
  {
   "cell_type": "markdown",
   "id": "1d634ea8",
   "metadata": {},
   "source": [
    "## Data Preparation"
   ]
  },
  {
   "cell_type": "markdown",
   "id": "42aec911",
   "metadata": {},
   "source": [
    "### Data Cleaning\n",
    "We load the CSV with the tweets and perform a random shuffle. It’s a good practice to shuffle the data before splitting between a train and test set. That way the sentiment classes are equally distributed over the train and test sets. We’ll only keep the text column as input and the airline_sentiment column as the target.\n",
    "\n",
    "The next thing we’ll do is removing stopwords. Stopwords do not have any value for predicting the sentiment. Furthermore, as we want to build a model that can be used for other airline companies as well, we remove the mentions."
   ]
  },
  {
   "cell_type": "code",
   "execution_count": 11,
   "id": "0dc11cc6",
   "metadata": {},
   "outputs": [
    {
     "name": "stderr",
     "output_type": "stream",
     "text": [
      "[nltk_data] Downloading package stopwords to\n",
      "[nltk_data]     /Users/lilipiesanen/nltk_data...\n",
      "[nltk_data]   Unzipping corpora/stopwords.zip.\n"
     ]
    }
   ],
   "source": [
    "import nltk\n",
    "nltk.download('stopwords')\n",
    "\n",
    "df = pd.read_csv(input_path / 'Tweets.csv')\n",
    "df = df.reindex(np.random.permutation(df.index))  \n",
    "df = df[['text', 'airline_sentiment']]\n",
    "df.text = df.text.apply(remove_stopwords).apply(remove_mentions)"
   ]
  },
  {
   "cell_type": "markdown",
   "id": "9f8579b0",
   "metadata": {},
   "source": [
    "### Train-Test Split\n",
    "The evaluation of the model performance needs to be done on a separate test set. As such, we can estimate how well the model generalizes. This is done with the train_test_split method of scikit-learn."
   ]
  },
  {
   "cell_type": "code",
   "execution_count": 12,
   "id": "a6ba41b9",
   "metadata": {},
   "outputs": [],
   "source": [
    "X_train, X_test, y_train, y_test = train_test_split(df.text, df.airline_sentiment, test_size=0.1, random_state=37)"
   ]
  },
  {
   "cell_type": "markdown",
   "id": "ca012dae",
   "metadata": {},
   "source": [
    "### Converting Words to Numbers\n",
    "To use the text as input for a model, we first need to convert the words into tokens, which simply means converting the words to integers that refer to an index in a dictionary. Here we will only keep the most frequent words in the training set.\n",
    "\n",
    "We clean up the text by applying filters and putting the words to lowercase. Words are separated by spaces."
   ]
  },
  {
   "cell_type": "code",
   "execution_count": 13,
   "id": "e92735fb",
   "metadata": {},
   "outputs": [],
   "source": [
    "tk = Tokenizer(num_words=NB_WORDS,\n",
    "               filters='!\"#$%&()*+,-./:;<=>?@[\\\\]^_`{\"}~\\t\\n',\n",
    "               lower=True,\n",
    "               char_level=False,\n",
    "               split=' ')\n",
    "tk.fit_on_texts(X_train)"
   ]
  },
  {
   "cell_type": "markdown",
   "id": "61378178",
   "metadata": {},
   "source": [
    "After having created the dictionary we can convert the text of a tweet to a vector with NB_WORDS values. With mode=binary, it contains an indicator whether the word appeared in the tweet or not. This is done with the texts_to_matrix method of the Tokenizer."
   ]
  },
  {
   "cell_type": "code",
   "execution_count": 14,
   "id": "435c47e1",
   "metadata": {},
   "outputs": [],
   "source": [
    "X_train_oh = tk.texts_to_matrix(X_train, mode='binary')\n",
    "X_test_oh = tk.texts_to_matrix(X_test, mode='binary')"
   ]
  },
  {
   "cell_type": "markdown",
   "id": "16971bc0",
   "metadata": {},
   "source": [
    "### Converting the Target Classes to Numbers\n",
    "We need to convert the target classes to numbers as well, which in turn are one-hot-encoded with the to_categorical method in Keras"
   ]
  },
  {
   "cell_type": "code",
   "execution_count": 15,
   "id": "51c0439f",
   "metadata": {},
   "outputs": [],
   "source": [
    "le = LabelEncoder()\n",
    "y_train_le = le.fit_transform(y_train)\n",
    "y_test_le = le.transform(y_test)\n",
    "y_train_oh = to_categorical(y_train_le)\n",
    "y_test_oh = to_categorical(y_test_le)"
   ]
  },
  {
   "cell_type": "markdown",
   "id": "bdc325ae",
   "metadata": {},
   "source": [
    "### Splitting Off Validation Set\n",
    "Now that our data is ready, we split off a validation set. This validation set will be used to evaluate the model performance when we tune the parameters of the model."
   ]
  },
  {
   "cell_type": "code",
   "execution_count": 16,
   "id": "94150919",
   "metadata": {},
   "outputs": [],
   "source": [
    "X_train_rest, X_valid, y_train_rest, y_valid = train_test_split(X_train_oh, y_train_oh, test_size=0.1, random_state=37)"
   ]
  },
  {
   "cell_type": "markdown",
   "id": "12d5b0b0",
   "metadata": {},
   "source": [
    "## Deep Learning"
   ]
  },
  {
   "cell_type": "markdown",
   "id": "3373dad9",
   "metadata": {},
   "source": [
    "### Creating a Model that Overfits\n",
    "We start with a model that overfits. It has 2 densely connected layers of 64 elements. The input_shape for the first layer is equal to the number of words we kept in the dictionary and for which we created one-hot-encoded features.\n",
    "\n",
    "As we need to predict 3 different sentiment classes, the last layer has 3 elements. The softmax activation function makes sure the three probabilities sum up to 1.\n",
    "\n",
    "The number of parameters to train is computed as (nb inputs x nb elements in hidden layer) + nb bias terms. The number of inputs for the first layer equals the number of words in our corpus. The subsequent layers have the number of outputs of the previous layer as inputs. So the number of parameters per layer are:\n",
    "- First layer : (10000 x 64) + 64 = 640064\n",
    "- Second layer : (64 x 64) + 64 = 4160\n",
    "- Last layer : (64 x 3) + 3 = 195"
   ]
  },
  {
   "cell_type": "code",
   "execution_count": 19,
   "id": "bcca2a7f",
   "metadata": {},
   "outputs": [],
   "source": [
    "base_model = models.Sequential()\n",
    "base_model.add(layers.Dense(64, activation='relu', input_shape=(NB_WORDS,)))\n",
    "base_model.add(layers.Dense(64, activation='relu'))\n",
    "base_model.add(layers.Dense(3, activation='softmax'))\n",
    "base_model.named = 'Baseline model'"
   ]
  },
  {
   "cell_type": "markdown",
   "id": "5e65c744",
   "metadata": {},
   "source": [
    "Because this project is a multi-class, single-label prediction, we use categorical_crossentropy as the loss function and softmax as the final activation function. We fit the model on the train data and validate on the validation set. We run for a predetermined number of epochs and will see when the model starts to overfit."
   ]
  },
  {
   "cell_type": "code",
   "execution_count": 20,
   "id": "1b4b4dd2",
   "metadata": {},
   "outputs": [
    {
     "name": "stdout",
     "output_type": "stream",
     "text": [
      "Minimum validation loss reached in epoch 3\n"
     ]
    },
    {
     "data": {
      "image/png": "[encoded data removed]",
      "text/plain": [
       "<Figure size 432x288 with 1 Axes>"
      ]
     },
     "metadata": {
      "needs_background": "light"
     },
     "output_type": "display_data"
    }
   ],
   "source": [
    "base_history = deep_model(base_model, X_train_rest, y_train_rest, X_valid, y_valid)\n",
    "base_min = optimal_epoch(base_history)\n",
    "eval_metric(base_model, base_history, 'loss')"
   ]
  },
  {
   "cell_type": "markdown",
   "id": "51950f45",
   "metadata": {},
   "source": [
    "In the beginning, the validation loss goes down. But at epoch 3 this stops and the validation loss starts increasing rapidly. This is when the models begin to overfit.\n",
    "\n",
    "The training loss continues to go down and almost reaches zero at epoch 20. This is normal as the model is trained to fit the train data as good as possible."
   ]
  },
  {
   "cell_type": "markdown",
   "id": "3394d051",
   "metadata": {},
   "source": [
    "## Handling Overfitting\n",
    "Now, we can try to do something about the overfitting. There are different options to do that.\n",
    "- Reduce the network’s capacity by removing layers or reducing the number of elements in the hidden layers\n",
    "- Apply regularization, which comes down to adding a cost to the loss function for large weights\n",
    "- Use Dropout layers, which will randomly remove certain features by setting them to zero\n",
    "\n",
    "### Reducing the network’s capacity\n",
    "Our first model has a large number of trainable parameters. The higher this number, the easier the model can memorize the target class for each training sample. Obviously, this is not ideal for generalizing on new data.\n",
    "\n",
    "By lowering the capacity of the network, you force it to learn the patterns that matter or that minimize the loss. On the other hand, reducing the network’s capacity too much will lead to underfitting. The model will not be able to learn the relevant patterns in the train data.\n",
    "\n",
    "We reduce the network’s capacity by removing one hidden layer and lowering the number of elements in the remaining layer to 16."
   ]
  },
  {
   "cell_type": "code",
   "execution_count": 22,
   "id": "c4e4941a",
   "metadata": {},
   "outputs": [
    {
     "name": "stdout",
     "output_type": "stream",
     "text": [
      "Minimum validation loss reached in epoch 14\n"
     ]
    },
    {
     "data": {
      "image/png": "[encoded data removed]",
      "text/plain": [
       "<Figure size 432x288 with 1 Axes>"
      ]
     },
     "metadata": {
      "needs_background": "light"
     },
     "output_type": "display_data"
    }
   ],
   "source": [
    "reduced_model = models.Sequential()\n",
    "reduced_model.add(layers.Dense(16, activation='relu', input_shape=(NB_WORDS,)))\n",
    "reduced_model.add(layers.Dense(3, activation='softmax'))\n",
    "reduced_model.named = 'Reduced model'\n",
    "reduced_history = deep_model(reduced_model, X_train_rest, y_train_rest, X_valid, y_valid)\n",
    "reduced_min = optimal_epoch(reduced_history)\n",
    "eval_metric(reduced_model, reduced_history, 'loss')"
   ]
  },
  {
   "cell_type": "markdown",
   "id": "bf1d85e9",
   "metadata": {},
   "source": [
    "We can see that it takes more epochs before the reduced model starts overfitting. The validation loss also goes up slower than our first model."
   ]
  },
  {
   "cell_type": "code",
   "execution_count": 23,
   "id": "aff3af47",
   "metadata": {},
   "outputs": [
    {
     "data": {
      "image/png": "[encoded data removed]",
      "text/plain": [
       "<Figure size 432x288 with 1 Axes>"
      ]
     },
     "metadata": {
      "needs_background": "light"
     },
     "output_type": "display_data"
    }
   ],
   "source": [
    "compare_models_by_metric(base_model, reduced_model, base_history, reduced_history, 'val_loss')"
   ]
  },
  {
   "cell_type": "markdown",
   "id": "f236e0ff",
   "metadata": {},
   "source": [
    "When we compare the validation loss of the baseline model, it is clear that the reduced model starts overfitting at a later epoch. The validation loss stays lower much longer than the baseline model."
   ]
  },
  {
   "cell_type": "markdown",
   "id": "077b5369",
   "metadata": {},
   "source": [
    "### Applying Regularization\n",
    "To address overfitting, we can apply weight regularization to the model. This will add a cost to the loss function of the network for large weights (or parameter values). As a result, you get a simpler model that will be forced to learn only the relevant patterns in the train data.\n",
    "\n",
    "There are L1 regularization and L2 regularization.\n",
    "- L1 regularization will add a cost with regards to the absolute value of the parameters. It will result in some of the weights to be equal to zero.\n",
    "- L2 regularization will add a cost with regards to the squared value of the parameters. This results in smaller weights.\n",
    "\n",
    "Let's try L2 Regularization:"
   ]
  },
  {
   "cell_type": "code",
   "execution_count": 25,
   "id": "939a7271",
   "metadata": {},
   "outputs": [
    {
     "name": "stdout",
     "output_type": "stream",
     "text": [
      "Minimum validation loss reached in epoch 3\n"
     ]
    }
   ],
   "source": [
    "reg_model = models.Sequential()\n",
    "reg_model.add(layers.Dense(64, kernel_regularizer=regularizers.l2(0.001), activation='relu', input_shape=(NB_WORDS,)))\n",
    "reg_model.add(layers.Dense(64, kernel_regularizer=regularizers.l2(0.001), activation='relu'))\n",
    "reg_model.add(layers.Dense(3, activation='softmax'))\n",
    "reg_model.named = 'L2 Regularization model'\n",
    "reg_history = deep_model(reg_model, X_train_rest, y_train_rest, X_valid, y_valid)\n",
    "reg_min = optimal_epoch(reg_history)"
   ]
  },
  {
   "cell_type": "markdown",
   "id": "f8d9a963",
   "metadata": {},
   "source": [
    "For the regularized model we notice that it starts overfitting in the same epoch as the baseline model. However, the loss increases much slower afterward."
   ]
  },
  {
   "cell_type": "code",
   "execution_count": 26,
   "id": "2b7510e7",
   "metadata": {},
   "outputs": [
    {
     "data": {
      "image/png": "[encoded data removed]",
      "text/plain": [
       "<Figure size 432x288 with 1 Axes>"
      ]
     },
     "metadata": {
      "needs_background": "light"
     },
     "output_type": "display_data"
    }
   ],
   "source": [
    "eval_metric(reg_model, reg_history, 'loss')"
   ]
  },
  {
   "cell_type": "code",
   "execution_count": 27,
   "id": "4e365f2a",
   "metadata": {},
   "outputs": [
    {
     "data": {
      "image/png": "[encoded data removed]",
      "text/plain": [
       "<Figure size 432x288 with 1 Axes>"
      ]
     },
     "metadata": {
      "needs_background": "light"
     },
     "output_type": "display_data"
    }
   ],
   "source": [
    "compare_models_by_metric(base_model, reg_model, base_history, reg_history, 'val_loss')"
   ]
  },
  {
   "cell_type": "markdown",
   "id": "35a6632a",
   "metadata": {},
   "source": [
    "### Adding Dropout Layers\n",
    "The last option we’ll try is to add Dropout layers. A Dropout layer will randomly set output features of a layer to zero."
   ]
  },
  {
   "cell_type": "code",
   "execution_count": 28,
   "id": "44080eae",
   "metadata": {},
   "outputs": [
    {
     "name": "stdout",
     "output_type": "stream",
     "text": [
      "Minimum validation loss reached in epoch 6\n"
     ]
    },
    {
     "data": {
      "image/png": "[encoded data removed]",
      "text/plain": [
       "<Figure size 432x288 with 1 Axes>"
      ]
     },
     "metadata": {
      "needs_background": "light"
     },
     "output_type": "display_data"
    }
   ],
   "source": [
    "drop_model = models.Sequential()\n",
    "drop_model.add(layers.Dense(64, activation='relu', input_shape=(NB_WORDS,)))\n",
    "drop_model.add(layers.Dropout(0.5))\n",
    "drop_model.add(layers.Dense(64, activation='relu'))\n",
    "drop_model.add(layers.Dropout(0.5))\n",
    "drop_model.add(layers.Dense(3, activation='softmax'))\n",
    "drop_model.named = 'Dropout layers model'\n",
    "drop_history = deep_model(drop_model, X_train_rest, y_train_rest, X_valid, y_valid)\n",
    "drop_min = optimal_epoch(drop_history)\n",
    "eval_metric(drop_model, drop_history, 'loss')"
   ]
  },
  {
   "cell_type": "markdown",
   "id": "a2e3f06f",
   "metadata": {},
   "source": [
    "The model with dropout layers starts overfitting later than the baseline model. The loss also increases slower than the baseline model."
   ]
  },
  {
   "cell_type": "code",
   "execution_count": 29,
   "id": "16898544",
   "metadata": {},
   "outputs": [
    {
     "data": {
      "image/png": "[encoded data removed]",
      "text/plain": [
       "<Figure size 432x288 with 1 Axes>"
      ]
     },
     "metadata": {
      "needs_background": "light"
     },
     "output_type": "display_data"
    }
   ],
   "source": [
    "compare_models_by_metric(base_model, drop_model, base_history, drop_history, 'val_loss')"
   ]
  },
  {
   "cell_type": "markdown",
   "id": "97387f60",
   "metadata": {},
   "source": [
    "The model with the Dropout layers starts overfitting later. Compared to the baseline model the loss also remains much lower."
   ]
  },
  {
   "cell_type": "markdown",
   "id": "82b28882",
   "metadata": {},
   "source": [
    "## Training on Train Data and Evaluation on Test Data\n",
    "At first sight, the reduced model seems to be the best model for generalization. But let’s check that on the test set."
   ]
  },
  {
   "cell_type": "code",
   "execution_count": 30,
   "id": "eada07d4",
   "metadata": {},
   "outputs": [
    {
     "name": "stdout",
     "output_type": "stream",
     "text": [
      "46/46 [==============================] - 0s 3ms/step - loss: 1.1716 - accuracy: 0.7630\n",
      "\n",
      "Test accuracy: 76.30%\n",
      "46/46 [==============================] - 0s 2ms/step - loss: 0.6758 - accuracy: 0.7828\n",
      "\n",
      "Test accuracy: 78.28%\n",
      "46/46 [==============================] - 0s 3ms/step - loss: 0.7743 - accuracy: 0.7848\n",
      "\n",
      "Test accuracy: 78.48%\n",
      "46/46 [==============================] - 0s 5ms/step - loss: 0.8671 - accuracy: 0.7910\n",
      "\n",
      "Test accuracy: 79.10%\n"
     ]
    }
   ],
   "source": [
    "base_results = test_model(base_model, X_train_oh, y_train_oh, X_test_oh, y_test_oh, base_min)\n",
    "reduced_results = test_model(reduced_model, X_train_oh, y_train_oh, X_test_oh, y_test_oh, reduced_min)\n",
    "reg_results = test_model(reg_model, X_train_oh, y_train_oh, X_test_oh, y_test_oh, reg_min)\n",
    "drop_results = test_model(drop_model, X_train_oh, y_train_oh, X_test_oh, y_test_oh, drop_min)"
   ]
  },
  {
   "cell_type": "markdown",
   "id": "e816e490",
   "metadata": {},
   "source": [
    "## Conclusion\n",
    "Baseline model = 76.30%\n",
    "\n",
    "Reduced model = 78.28%\n",
    "\n",
    "Model with L2 Regularization = 78.48%\n",
    "\n",
    "Model with Dropout Layers = 79.10%"
   ]
  },
  {
   "cell_type": "markdown",
   "id": "dccc7c45",
   "metadata": {},
   "source": [
    "As shown above, all three options help to reduce overfitting. We manage to increase the accuracy on the test data substantially. Among these three options, the model with the Dropout layers performs the best on the test data."
   ]
  }
 ],
 "metadata": {
  "kernelspec": {
   "display_name": "Python 3",
   "language": "python",
   "name": "python3"
  },
  "language_info": {
   "codemirror_mode": {
    "name": "ipython",
    "version": 3
   },
   "file_extension": ".py",
   "mimetype": "text/x-python",
   "name": "python",
   "nbconvert_exporter": "python",
   "pygments_lexer": "ipython3",
   "version": "3.7.10"
  }
 },
 "nbformat": 4,
 "nbformat_minor": 5
}
